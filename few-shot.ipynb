{
 "cells": [
  {
   "cell_type": "code",
   "execution_count": 4,
   "metadata": {},
   "outputs": [],
   "source": [
    "from langchain.chat_models import ChatOpenAI\n",
    "from langchain.prompts import ChatPromptTemplate\n",
    "from langchain.prompts.few_shot import FewShotChatMessagePromptTemplate\n",
    "from langchain.callbacks import StreamingStdOutCallbackHandler\n",
    "\n",
    "\n",
    "chat = ChatOpenAI(\n",
    "    model=\"gpt-3.5-turbo\",\n",
    "    streaming=True,\n",
    "    callbacks=[StreamingStdOutCallbackHandler()],\n",
    ")\n",
    "\n",
    "examples = [\n",
    "    {\n",
    "        \"movie\": \"어벤저스\",\n",
    "        \"answer\": \"\"\"\n",
    "                감독 : 조스 웨던\n",
    "                출연진 : 로버티 다우니 주니어, 크리스 에반스, 크리스 햄스워스, 스칼렛 요한슨\n",
    "                장르 : 슈퍼히어로, 액션, 모험, SF\n",
    "                시놉시스 : 어벤저스는 마블 시네마틱 유니버스(MCU)에 속한 여러 슈퍼히어로들이 팀을 이루어 지구를 위협하는 초강력 적, 로키에 맞서 싸우는 이야기입니다. 로키는 지구를 정복하기 위해 치타우리라는 외계군대를 소환하며, 이를 막기 위해 닉 퓨리는 아이언맨, 캡틴 아메리카, 토르, 헐크, 블랙 위도우, 호크아이를 소집하여 어벤저스를 결성합니다. 이들은 각자의 능력과 개성을 바탕으로 팀워크를 발휘하여 지구를 구하기 위해 치열한 전투를 벌입니다.\n",
    "                \"\"\",\n",
    "    },\n",
    "    {\n",
    "        \"movie\": \"인터스텔라\",\n",
    "        \"answer\": \"\"\"\n",
    "                감독 : 크리스토퍼 놀란\n",
    "                출연진 : 매튜 매코너헤이,앤 해서웨이,제시카 차스테인,맥켄지 포이,마이클 케인\n",
    "                장르 : SF, 드라마, 모험\n",
    "                시놉시스 : 인터스텔라는 지구가 환경적 재앙으로 인해 더 이상 인류의 거주에 적합하지 않게 된 미래를 배경으로 합니다. 주인공 쿠퍼는 NASA의 전 파일럿이자 현재는 농부로서 생계를 유지하고 있지만, 인류의 미래를 구하기 위해 새로운 거주지를 찾기 위한 위험한 임무에 자원합니다. 그는 우주의 웜홀을 통해 다른 은하로 여행하여 새로운 행성을 탐사하는 임무를 맡게 되며, 시간과 공간의 경계를 넘어 가족과 인류를 위한 사투를 벌입니다. 이 과정에서 시간의 상대성, 사랑의 본질, 그리고 인류의 생존 본능에 대한 철학적인 질문을 던집니다.\n",
    "                \"\"\",\n",
    "    },\n",
    "    {\n",
    "        \"movie\": \"반지의 제왕\",\n",
    "        \"answer\": \"\"\"\n",
    "                감독 : 피터 잭슨\n",
    "                출연진 : 일라이저 우드,이안 맥켈런,비고 모르텐센,리브 타일러,숀 애스틴\n",
    "                장르 : 판타지, 모험, 액션\n",
    "                시놉시스 : 반지의 제왕 시리즈는 중간계(Middle-earth)라는 가상의 세계를 배경으로, 절대반지(The One Ring)를 파괴하여 어둠의 군주 사우론(Sauron)의 부활과 지배를 막으려는 여정을 그립니다. 호빗 프로도 배긴스(Frodo Baggins)는 반지의 파괴를 위한 사명을 부여받고, 친구 샘와이즈 갬지(Samwise Gamgee)와 여러 동료들과 함께 위험천만한 여정을 시작합니다. 반지 원정대(The Fellowship of the Ring)는 사우론의 군대와 사루만의 음모, 골룸의 집착 등을 넘어서며, 반지를 모리아의 불길 속에서 파괴하기 위해 험난한 길을 떠납니다. 이 여정은 용기, 희생, 우정, 그리고 악을 이겨내는 선의 힘에 대한 깊은 이야기를 담고 있으며, 중간계의 다양한 종족들이 협력하여 사악한 힘에 맞서 싸우는 서사시적 전개를 보여줍니다.\n",
    "                \"\"\",\n",
    "    },\n",
    "]\n",
    "\n",
    "example_prompt = ChatPromptTemplate.from_messages(\n",
    "    [(\"human\", \"What do you know about {movie}\"), (\"ai\", \"{answer}\")]\n",
    ")\n",
    "\n",
    "few_shot_prompt = FewShotChatMessagePromptTemplate(\n",
    "    example_prompt=example_prompt, examples=examples\n",
    ")\n",
    "\n",
    "final_prompt = ChatPromptTemplate.from_messages(\n",
    "    [few_shot_prompt, (\"human\", \"What do you know about {movie}\")]\n",
    ")\n",
    "\n",
    "\n",
    "chain = final_prompt | chat\n"
   ]
  },
  {
   "cell_type": "code",
   "execution_count": 5,
   "metadata": {},
   "outputs": [
    {
     "name": "stdout",
     "output_type": "stream",
     "text": [
      "\n",
      "                감독 : 크리스토퍼 놀란\n",
      "                출연진 : 레오나르도 디카프리오, 조셉 고든 레빗, 엘렌 페이지, 톰 하디, 마리온 꼬띠아르\n",
      "                장르 : SF, 액션, 스릴러, 드라마\n",
      "                시놉시스 : 인셉션은 꿈 속으로 들어가서 타인의 마음을 해독하거나 아이디어를 심는 것을 뜻하는 개념으로, 영화에서는 이를 바탕으로 한 현실과 꿈의 경계를 넘나드는 이야기를 그립니다. 주인공 돔 코브는 꿈의 세계에서 정보를 훔치는 일을 하는 특수요원이며, 그가 받은 마지막 임무는 인셉션, 즉 아이디어를 심어 타인의 행동을 조종하는 것입니다. 그는 팀을 조직하여 꿈 속으로 들어가는 작전을 수행하게 되지만, 예상치 못한 상황과 뜻밖의 굴곡으로 인해 임무가 점점 복잡해지고 위험해지는데, 꿈과 현실 사이의 경계가 흐려지면서 깊은 사고와 감정적 고뇌를 겪게 됩니다. 인셉션은 현실과 꿈, 의식과 무의식, 인간의 본성과 욕망에 대한 철학적인 이야기를 다루며, 시간과 공간의 상대성, 인간의 꿈과 현실 사이의 관계를 탐구합니다."
     ]
    },
    {
     "data": {
      "text/plain": [
       "AIMessageChunk(content='\\n                감독 : 크리스토퍼 놀란\\n                출연진 : 레오나르도 디카프리오, 조셉 고든 레빗, 엘렌 페이지, 톰 하디, 마리온 꼬띠아르\\n                장르 : SF, 액션, 스릴러, 드라마\\n                시놉시스 : 인셉션은 꿈 속으로 들어가서 타인의 마음을 해독하거나 아이디어를 심는 것을 뜻하는 개념으로, 영화에서는 이를 바탕으로 한 현실과 꿈의 경계를 넘나드는 이야기를 그립니다. 주인공 돔 코브는 꿈의 세계에서 정보를 훔치는 일을 하는 특수요원이며, 그가 받은 마지막 임무는 인셉션, 즉 아이디어를 심어 타인의 행동을 조종하는 것입니다. 그는 팀을 조직하여 꿈 속으로 들어가는 작전을 수행하게 되지만, 예상치 못한 상황과 뜻밖의 굴곡으로 인해 임무가 점점 복잡해지고 위험해지는데, 꿈과 현실 사이의 경계가 흐려지면서 깊은 사고와 감정적 고뇌를 겪게 됩니다. 인셉션은 현실과 꿈, 의식과 무의식, 인간의 본성과 욕망에 대한 철학적인 이야기를 다루며, 시간과 공간의 상대성, 인간의 꿈과 현실 사이의 관계를 탐구합니다.')"
      ]
     },
     "execution_count": 5,
     "metadata": {},
     "output_type": "execute_result"
    }
   ],
   "source": [
    "chain.invoke({\"movie\": \"인셉션\"})"
   ]
  }
 ],
 "metadata": {
  "kernelspec": {
   "display_name": "langchain1.0",
   "language": "python",
   "name": "python3"
  },
  "language_info": {
   "codemirror_mode": {
    "name": "ipython",
    "version": 3
   },
   "file_extension": ".py",
   "mimetype": "text/x-python",
   "name": "python",
   "nbconvert_exporter": "python",
   "pygments_lexer": "ipython3",
   "version": "3.11.9"
  }
 },
 "nbformat": 4,
 "nbformat_minor": 2
}
